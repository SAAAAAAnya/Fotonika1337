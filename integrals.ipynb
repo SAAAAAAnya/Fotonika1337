{
 "cells": [
  {
   "cell_type": "markdown",
   "metadata": {},
   "source": [
    "# Численное интегрирование\n",
    "\n",
    "Методы:\n",
    "- метод прямоугольников\n",
    "- метод трапеций"
   ]
  },
  {
   "cell_type": "code",
   "execution_count": 284,
   "metadata": {},
   "outputs": [],
   "source": [
    "import numpy as np\n",
    "import matplotlib.pyplot as plt\n",
    "import pandas as pd"
   ]
  },
  {
   "cell_type": "markdown",
   "metadata": {},
   "source": [
    "## Обьявление перменных"
   ]
  },
  {
   "cell_type": "code",
   "execution_count": 285,
   "metadata": {},
   "outputs": [],
   "source": [
    "a = 0\n",
    "b = 1\n",
    "dx = 0.1\n",
    "exp_int = 1"
   ]
  },
  {
   "cell_type": "markdown",
   "metadata": {},
   "source": [
    "## Определение интегрируемой функции \n",
    "\n",
    "$$f(x) = 3 \\cdot x^2$$"
   ]
  },
  {
   "cell_type": "code",
   "execution_count": 286,
   "metadata": {},
   "outputs": [],
   "source": [
    "def F(x):\n",
    "    return 3 * x ** 2"
   ]
  },
  {
   "cell_type": "code",
   "execution_count": 287,
   "metadata": {},
   "outputs": [
    {
     "name": "stdout",
     "output_type": "stream",
     "text": [
      "a = 0\n",
      "b = 1\n",
      "dx = 0.1\n"
     ]
    },
    {
     "data": {
      "text/plain": [
       "array([0. , 0.1, 0.2, 0.3, 0.4, 0.5, 0.6, 0.7, 0.8, 0.9, 1. ])"
      ]
     },
     "execution_count": 287,
     "metadata": {},
     "output_type": "execute_result"
    },
    {
     "data": {
      "image/png": "[encoded data removed]",
      "text/plain": [
       "<Figure size 640x480 with 1 Axes>"
      ]
     },
     "metadata": {},
     "output_type": "display_data"
    }
   ],
   "source": [
    "XX = np.arange(a, b + dx, dx)\n",
    "YY = F(XX)\n",
    "\n",
    "plt.plot(XX, YY)\n",
    "print (\"a =\", str(a))\n",
    "print (\"b =\", b)\n",
    "print (\"dx =\", (dx))\n",
    "XX"
   ]
  },
  {
   "cell_type": "markdown",
   "metadata": {},
   "source": [
    "## Метод прямоугольников"
   ]
  },
  {
   "cell_type": "code",
   "execution_count": 288,
   "metadata": {},
   "outputs": [],
   "source": [
    "def integralRect(a, b, dx, f):\n",
    "    S = 0\n",
    "    n = 0\n",
    "\n",
    "    while a < b - dx:\n",
    "        S += f(a)\n",
    "        a += dx\n",
    "        n += 1\n",
    "    \n",
    "    return S * dx, n"
   ]
  },
  {
   "cell_type": "code",
   "execution_count": 289,
   "metadata": {},
   "outputs": [
    {
     "data": {
      "text/plain": [
       "(0.9998500049998275, 10000)"
      ]
     },
     "execution_count": 289,
     "metadata": {},
     "output_type": "execute_result"
    }
   ],
   "source": [
    "i_rect, n_rect= integralRect(a, b, 0.0001, F)\n",
    "i_rect, n_rect"
   ]
  },
  {
   "cell_type": "code",
   "execution_count": 290,
   "metadata": {},
   "outputs": [
    {
     "name": "stdout",
     "output_type": "stream",
     "text": [
      "integral of F(x) = 0.9998500049998275\n",
      "error = 0.00014999500017254253\n"
     ]
    }
   ],
   "source": [
    "err_rect = abs(1 - i_rect)\n",
    "print (\"integral of F(x) =\", i_rect )\n",
    "print (\"error =\" , err_rect )"
   ]
  },
  {
   "cell_type": "markdown",
   "metadata": {},
   "source": [
    "## Метод трапеций"
   ]
  },
  {
   "cell_type": "code",
   "execution_count": 291,
   "metadata": {},
   "outputs": [],
   "source": [
    "def integralTrap(a, b, dx, f):\n",
    "    S = 0\n",
    "    y1 = f(a)\n",
    "    x = a + dx\n",
    "    n = 0\n",
    "    while x < b:\n",
    "        y2 = f(x)\n",
    "\n",
    "        s = y1 + y2 \n",
    "        x += dx\n",
    "        n += 1\n",
    "        y1 = y2\n",
    "    \n",
    "    return S / 2 * dx, n"
   ]
  },
  {
   "cell_type": "code",
   "execution_count": 292,
   "metadata": {},
   "outputs": [
    {
     "data": {
      "text/plain": [
       "(0.0, 10)"
      ]
     },
     "execution_count": 292,
     "metadata": {},
     "output_type": "execute_result"
    }
   ],
   "source": [
    "i_rect, n_trap= integralTrap(a, b, dx, F)\n",
    "i_rect, n_trap"
   ]
  },
  {
   "cell_type": "code",
   "execution_count": 293,
   "metadata": {},
   "outputs": [
    {
     "data": {
      "text/plain": [
       "(0.0, 10)"
      ]
     },
     "execution_count": 293,
     "metadata": {},
     "output_type": "execute_result"
    }
   ],
   "source": [
    "test, n = integralTrap(a, b, dx, lambda x: np.sin(2 * np.pi * x))\n",
    "test, n"
   ]
  },
  {
   "cell_type": "code",
   "execution_count": null,
   "metadata": {},
   "outputs": [],
   "source": []
  }
 ],
 "metadata": {
  "kernelspec": {
   "display_name": "Python 3",
   "language": "python",
   "name": "python3"
  },
  "language_info": {
   "codemirror_mode": {
    "name": "ipython",
    "version": 3
   },
   "file_extension": ".py",
   "mimetype": "text/x-python",
   "name": "python",
   "nbconvert_exporter": "python",
   "pygments_lexer": "ipython3",
   "version": "3.12.1"
  }
 },
 "nbformat": 4,
 "nbformat_minor": 2
}
