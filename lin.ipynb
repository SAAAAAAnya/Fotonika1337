{
 "cells": [
  {
   "cell_type": "markdown",
   "metadata": {},
   "source": [
    "# Основы линейной алгебры\n",
    "## Работа с векторами"
   ]
  },
  {
   "cell_type": "code",
   "execution_count": 58,
   "metadata": {},
   "outputs": [],
   "source": [
    "import numpy as np\n",
    "import random as round\n",
    "import scipy.linalg as lp"
   ]
  },
  {
   "cell_type": "code",
   "execution_count": 59,
   "metadata": {},
   "outputs": [
    {
     "data": {
      "text/plain": [
       "[[1, 2, 3], [4, 5, 6], [7, 8, 9]]"
      ]
     },
     "execution_count": 59,
     "metadata": {},
     "output_type": "execute_result"
    }
   ],
   "source": [
    "base_list1 = [1,2,3,4,5]\n",
    "base_list2 = [[1,2,3],[4,5,6],[7,8,9]]\n",
    "base_list2"
   ]
  },
  {
   "cell_type": "code",
   "execution_count": 60,
   "metadata": {},
   "outputs": [
    {
     "data": {
      "text/plain": [
       "[2, 4, 6, 8, 10]"
      ]
     },
     "execution_count": 60,
     "metadata": {},
     "output_type": "execute_result"
    }
   ],
   "source": [
    "def f1(x):\n",
    "    return x *x\n",
    "projection = list (map (f1, base_list1))\n",
    "projection1 = list (map(lambda x: x*2, base_list1))\n",
    "projection\n",
    "projection1"
   ]
  },
  {
   "cell_type": "code",
   "execution_count": 61,
   "metadata": {},
   "outputs": [
    {
     "data": {
      "text/plain": [
       "[{1, 2, 3}, {1, 2, 3}, {1, 2, 3}]"
      ]
     },
     "execution_count": 61,
     "metadata": {},
     "output_type": "execute_result"
    }
   ],
   "source": [
    "base_list3 = [43] * 5\n",
    "base_list4 = [{1,2,3}] * 3\n",
    "base_list4\n"
   ]
  },
  {
   "cell_type": "code",
   "execution_count": 62,
   "metadata": {},
   "outputs": [
    {
     "data": {
      "text/plain": [
       "array([ 1.        ,  2.28571429,  3.57142857,  4.85714286,  6.14285714,\n",
       "        7.42857143,  8.71428571, 10.        ])"
      ]
     },
     "execution_count": 62,
     "metadata": {},
     "output_type": "execute_result"
    }
   ],
   "source": [
    "XX = np.array([1,2,3])\n",
    "YY = np.array(base_list2)\n",
    "aa = np.arange(1, 10, 2)\n",
    "bb = np.linspace(1, 10, 8)\n",
    "bb"
   ]
  },
  {
   "cell_type": "markdown",
   "metadata": {},
   "source": [
    "# Алгебра матриц"
   ]
  },
  {
   "cell_type": "markdown",
   "metadata": {},
   "source": [
    "### Умножение матрицы на вектор"
   ]
  },
  {
   "cell_type": "code",
   "execution_count": 63,
   "metadata": {},
   "outputs": [
    {
     "data": {
      "text/plain": [
       "[14, 32, 50]"
      ]
     },
     "execution_count": 63,
     "metadata": {},
     "output_type": "execute_result"
    }
   ],
   "source": [
    "def Matrix2Vector(A, a):\n",
    "    n, m = np.shape(A)\n",
    "\n",
    "    b = [0] * n\n",
    "    for i in range(0, n): #Для всех строк матрицы рассчитываем ячейки вектора результата\n",
    "        s = 0\n",
    "        for j in range(0, m): # номер элемента в строке\n",
    "            s += A[i,j] * a[j]\n",
    "        b[i] = s\n",
    "    return b\n",
    "A = np.array(base_list2)\n",
    "b1 = Matrix2Vector(A,[1,2,3])\n",
    "b1"
   ]
  },
  {
   "cell_type": "markdown",
   "metadata": {},
   "source": [
    "## Транспонирование матрицы"
   ]
  },
  {
   "cell_type": "code",
   "execution_count": 64,
   "metadata": {},
   "outputs": [
    {
     "data": {
      "text/plain": [
       "array([[1, 4, 7],\n",
       "       [2, 5, 8],\n",
       "       [3, 6, 9]])"
      ]
     },
     "execution_count": 64,
     "metadata": {},
     "output_type": "execute_result"
    }
   ],
   "source": [
    "def Transpose(A):\n",
    "    n, m = np.shape(A)\n",
    "    B = []\n",
    "    for j in range (0, m): # перебираем номера столбцов матрицы А\n",
    "         b = []\n",
    "         for i in range(0, n):\n",
    "              b.append(A[i,j])\n",
    "         B.append(b)\n",
    "    return np.array(B)\n",
    "\n",
    "B = Transpose(A)\n",
    "B\n"
   ]
  },
  {
   "cell_type": "markdown",
   "metadata": {},
   "source": [
    "##  Простейшие операции"
   ]
  },
  {
   "cell_type": "code",
   "execution_count": 65,
   "metadata": {},
   "outputs": [
    {
     "data": {
      "text/plain": [
       "array([[1, 2, 3],\n",
       "       [4, 5, 6],\n",
       "       [7, 8, 9]])"
      ]
     },
     "execution_count": 65,
     "metadata": {},
     "output_type": "execute_result"
    }
   ],
   "source": [
    "C = A * B\n",
    "D = A\n",
    "D"
   ]
  },
  {
   "cell_type": "markdown",
   "metadata": {},
   "source": [
    "## Умножение матрицы на матрицу"
   ]
  },
  {
   "cell_type": "code",
   "execution_count": 75,
   "metadata": {},
   "outputs": [
    {
     "name": "stdout",
     "output_type": "stream",
     "text": [
      "[[1 4 7]\n",
      " [2 5 8]\n",
      " [3 6 9]]\n",
      "[[1 2 3]\n",
      " [4 5 6]\n",
      " [7 8 9]]\n"
     ]
    },
    {
     "data": {
      "text/plain": [
       "(None,\n",
       " None,\n",
       " array([[ 14,  32,  50],\n",
       "        [ 32,  77, 122],\n",
       "        [ 50, 122, 194]]))"
      ]
     },
     "execution_count": 75,
     "metadata": {},
     "output_type": "execute_result"
    }
   ],
   "source": [
    "def Matrix2Matrix(A,B):\n",
    "    la = np.shape(A)\n",
    "    lb = np.shape(B)\n",
    "\n",
    "    C = []\n",
    "    for i in range(0, lb[1]):\n",
    "        C.append([0] * la[0])\n",
    "\n",
    "    for i in range(0, la[0]):\n",
    "        for j in range(0,lb[1]):\n",
    "            s = 0\n",
    "            for k in range(0, la[1]): # к - номер ячейки строки А и номер ячейки столбца Б\n",
    "                s += A[i,k] * B[k,j]\n",
    "            C[i][j] = s\n",
    "        \n",
    "    return np.array(C)\n",
    "\n",
    "C = Matrix2Matrix(A, A.T)\n",
    "print(B), print(A), C"
   ]
  },
  {
   "cell_type": "code",
   "execution_count": 76,
   "metadata": {},
   "outputs": [],
   "source": [
    "def Triangle(A):\n",
    "    M = np.array(A)\n",
    "    n, m = np.shape(M)\n",
    "\n",
    "    d = 1\n",
    "    rank = min (n,m)"
   ]
  }
 ],
 "metadata": {
  "kernelspec": {
   "display_name": "Python 3",
   "language": "python",
   "name": "python3"
  },
  "language_info": {
   "codemirror_mode": {
    "name": "ipython",
    "version": 3
   },
   "file_extension": ".py",
   "mimetype": "text/x-python",
   "name": "python",
   "nbconvert_exporter": "python",
   "pygments_lexer": "ipython3",
   "version": "3.12.1"
  }
 },
 "nbformat": 4,
 "nbformat_minor": 2
}
